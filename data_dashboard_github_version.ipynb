{
 "cells": [
  {
   "cell_type": "code",
   "execution_count": null,
   "metadata": {},
   "outputs": [],
   "source": [
    "import pymysql.cursors\n",
    "import pymysql\n",
    "import pandas as pd\n",
    "import dash\n",
    "import dash_core_components as dcc\n",
    "import dash_html_components as html\n",
    "import dash_bootstrap_components as dbc\n",
    "import plotly.express as px\n",
    "import matplotlib.pyplot as plt\n",
    "import plotly.graph_objs as go\n",
    "from dash.dependencies import Input, Output, State\n",
    "import datetime\n",
    "# from datetime import datetime\n",
    "import dash_bootstrap_components as dbc"
   ]
  },
  {
   "cell_type": "code",
   "execution_count": null,
   "metadata": {},
   "outputs": [],
   "source": [
    "db_host = 'xxx'\n",
    "db_user = 'xxx'\n",
    "db_password = 'xxx'\n",
    "db_database = 'xxx'\n",
    "\n"
   ]
  },
  {
   "cell_type": "markdown",
   "metadata": {},
   "source": [
    "# Get all stock codes and stock company names"
   ]
  },
  {
   "cell_type": "code",
   "execution_count": null,
   "metadata": {},
   "outputs": [],
   "source": [
    "def all_stock_codes_and_stock_company_names():\n",
    "    connection = pymysql.connect(host=db_host,\n",
    "                             user=db_user,\n",
    "                             password=db_password,\n",
    "                             db=db_database,\n",
    "                             charset='utf8mb4',\n",
    "                             cursorclass=pymysql.cursors.DictCursor)\n",
    "    dbcursor = connection.cursor()\n",
    "    query=\"\"\"\n",
    "    SELECT sit.code, sit.company_name\n",
    "    FROM stock_info_table sit;\"\"\"\n",
    "    \n",
    "    out_df = pd.read_sql(query, connection)\n",
    "    connection.close()\n",
    "    return out_df\n",
    "    "
   ]
  },
  {
   "cell_type": "code",
   "execution_count": null,
   "metadata": {},
   "outputs": [],
   "source": [
    "hsi_code_name_df = all_stock_codes_and_stock_company_names()"
   ]
  },
  {
   "cell_type": "code",
   "execution_count": null,
   "metadata": {},
   "outputs": [],
   "source": [
    "def all_participant_info():\n",
    "    connection = pymysql.connect(host=db_host,\n",
    "                                 user=db_user,\n",
    "                                 password=db_password,\n",
    "                                 db=db_database,\n",
    "                                 charset='utf8mb4',\n",
    "                                 cursorclass=pymysql.cursors.DictCursor)\n",
    "    dbcursor = connection.cursor()\n",
    "    query=\"\"\"\n",
    "    SELECT * FROM participant_info_table;\"\"\"\n",
    "    \n",
    "    out_df = pd.read_sql(query, connection)\n",
    "    connection.close()\n",
    "    return out_df\n",
    "    "
   ]
  },
  {
   "cell_type": "code",
   "execution_count": null,
   "metadata": {},
   "outputs": [],
   "source": [
    "participant_info_df = all_participant_info()"
   ]
  },
  {
   "cell_type": "code",
   "execution_count": null,
   "metadata": {},
   "outputs": [],
   "source": [
    "def get_stock_value(company_name, start_date, end_date):\n",
    "    connection = pymysql.connect(host=db_host,\n",
    "                                 user=db_user,\n",
    "                                 password=db_password,\n",
    "                                 db=db_database,\n",
    "                                 charset='utf8mb4',\n",
    "                                 cursorclass=pymysql.cursors.DictCursor)\n",
    "    dbcursor = connection.cursor()\n",
    "    query = \"\"\"\n",
    "        WITH sit AS(select sit.code\n",
    "        from stock_info_table as sit\n",
    "        where sit.company_name = '{}')\n",
    "        SELECT svt.code, svt.date, svt.high, svt.low, svt.open, svt.close\n",
    "        FROM sit \n",
    "        INNER JOIN stock_value_table svt ON sit.code=svt.code\n",
    "        WHERE svt.date BETWEEN '{}' AND '{}';\n",
    "    \"\"\".format(company_name, start_date, end_date)\n",
    "    \n",
    "    df = pd.read_sql(query,connection)\n",
    "    connection.close()\n",
    "    \n",
    "    fig = go.Figure(\n",
    "        data=[\n",
    "                go.Candlestick(\n",
    "                    x=df['date'],\n",
    "                    open=df['open'], \n",
    "                    high=df['high'],\n",
    "                    low=df['low'], \n",
    "                    close=df['close']\n",
    "                )\n",
    "             ],\n",
    "        layout = go.Layout(\n",
    "            autosize=True,\n",
    "            title=company_name,\n",
    "            yaxis_title='HK Dollar',\n",
    "            xaxis_title='Date',\n",
    "            template=\"plotly_white\"\n",
    "        ))\n",
    "    \n",
    "    return df,fig"
   ]
  },
  {
   "cell_type": "code",
   "execution_count": null,
   "metadata": {},
   "outputs": [],
   "source": [
    "def get_stock_company_description(company_name):\n",
    "    connection = pymysql.connect(host=db_host,\n",
    "                                 user=db_user,\n",
    "                                 password=db_password,\n",
    "                                 db=db_database,\n",
    "                                 charset='utf8mb4',\n",
    "                                 cursorclass=pymysql.cursors.DictCursor)\n",
    "    dbcursor = connection.cursor()\n",
    "    query = \"\"\"\n",
    "        SELECT sit.company_description\n",
    "        FROM stock_info_table sit\n",
    "        WHERE sit.company_name='{}'\n",
    "    \"\"\".format(company_name)\n",
    "    dbcursor.execute(query)\n",
    "    connection.close()\n",
    "    return dbcursor.fetchone()['company_description']"
   ]
  },
  {
   "cell_type": "code",
   "execution_count": null,
   "metadata": {},
   "outputs": [],
   "source": [
    "def get_participant_amount(company_name, start_date, end_date):\n",
    "    connection = pymysql.connect(host=db_host,\n",
    "                                 user=db_user,\n",
    "                                 password=db_password,\n",
    "                                 db=db_database,\n",
    "                                 charset='utf8mb4',\n",
    "                                 cursorclass=pymysql.cursors.DictCursor)\n",
    "    dbcursor = connection.cursor()\n",
    "    \n",
    "    query = \"\"\"\n",
    "        WITH sit AS(select sit.code\n",
    "        from stock_info_table as sit\n",
    "        where sit.company_name = '{}')\n",
    "        SELECT pit.participant_name, pat.date, pat.amount\n",
    "        FROM sit\n",
    "        INNER JOIN participant_amount_table pat on sit.code=pat.code\n",
    "        INNER JOIN participant_info_table pit on pit.participant_id = pat.participant_id\n",
    "        WHERE pat.date BETWEEN '{}' AND '{}';\n",
    "    \"\"\".format(company_name, start_date, end_date)\n",
    "\n",
    "    \n",
    "    \n",
    "    out_df = pd.read_sql(query,connection)\n",
    "    connection.close()\n",
    "    amount_df = out_df.groupby(['date','participant_name']).first().unstack(level=-1)\n",
    "    \n",
    "    fig = go.Figure(layout = go.Layout(\n",
    "            autosize=True,\n",
    "            title=company_name,\n",
    "            yaxis_title='Amount',\n",
    "            xaxis_title='Date',\n",
    "            template=\"plotly_white\"\n",
    "        ))\n",
    "    for c in amount_df.columns:\n",
    "        fig.add_trace(\n",
    "            go.Scattergl(\n",
    "                x = amount_df.index,\n",
    "                y = amount_df[c],\n",
    "                mode = 'lines',\n",
    "                marker = dict(\n",
    "                    line = dict(width = 1)\n",
    "                ),\n",
    "                name=c[1],\n",
    "                text=c[1]\n",
    "            )\n",
    "        )\n",
    "\n",
    "    \n",
    "    \n",
    "    return fig, out_df['participant_name'].unique().tolist()"
   ]
  },
  {
   "cell_type": "code",
   "execution_count": null,
   "metadata": {},
   "outputs": [],
   "source": [
    "def generate_participant_FormGroup(participant_name,participant_address):\n",
    "    return dbc.FormGroup(\n",
    "                [\n",
    "                    html.H3(f'Stakeholder Name/Company: {participant_name}'),\n",
    "                    html.Br(),\n",
    "                    html.H3(f'Stakeholder Address: {participant_address}')\n",
    "                ]\n",
    "            ),\n",
    "    "
   ]
  },
  {
   "cell_type": "code",
   "execution_count": null,
   "metadata": {},
   "outputs": [],
   "source": []
  },
  {
   "cell_type": "code",
   "execution_count": null,
   "metadata": {},
   "outputs": [],
   "source": []
  },
  {
   "cell_type": "code",
   "execution_count": null,
   "metadata": {},
   "outputs": [],
   "source": [
    "stock_options = (hsi_code_name_df['company_name'].apply(lambda x:str(x))).tolist()\n",
    "stock_options = [{'label':i, 'value':i}for i in stock_options]"
   ]
  },
  {
   "cell_type": "markdown",
   "metadata": {},
   "source": [
    "# Navigation Bar"
   ]
  },
  {
   "cell_type": "code",
   "execution_count": null,
   "metadata": {},
   "outputs": [],
   "source": [
    "navbar = dbc.NavbarSimple(\n",
    "    children=[\n",
    "        dbc.NavItem(dbc.NavLink(\"Stock Candlestick Graph\", href=\"/\")),\n",
    "        dbc.NavItem(dbc.NavLink(\"Stakeholder Graph\", href=\"/stakeholder\")),\n",
    "    ],\n",
    "    brand=\"Hang Seng Index Stock/Stakeholder Visualization Tools\",\n",
    "    brand_href=\"/\",\n",
    "    color=\"primary\",\n",
    "    dark=True,\n",
    ")\n"
   ]
  },
  {
   "cell_type": "markdown",
   "metadata": {},
   "source": [
    "# Control Panel"
   ]
  },
  {
   "cell_type": "code",
   "execution_count": null,
   "metadata": {},
   "outputs": [],
   "source": [
    "\n",
    "controls = dbc.Card(\n",
    "    [\n",
    "        dbc.FormGroup(\n",
    "            [\n",
    "                html.H3(\"Hang Seng Index Stock\"),\n",
    "                \n",
    "                html.Div(\n",
    "                    children=dcc.Dropdown(\n",
    "                        id=\"stock_company\",\n",
    "                        options=stock_options,style={'fontColor':'black'}\n",
    "                    ),\n",
    "                    \n",
    "                \n",
    "                \n",
    "                )\n",
    "                \n",
    "            ]\n",
    "        ),\n",
    "        dbc.FormGroup(\n",
    "            [\n",
    "                html.H5(\"Please select a start date and end date\"),\n",
    "                dcc.DatePickerRange(\n",
    "                    id='my_date_picker',\n",
    "                    min_date_allowed=datetime.date(2019, 1, 1),\n",
    "                    max_date_allowed=datetime.date(2020, 9, 30),\n",
    "                    start_date=datetime.date(2019,1,1),\n",
    "                    end_date = datetime.date(2020,9,30)\n",
    "                )\n",
    "            ]\n",
    "        ),\n",
    "    ],\n",
    "    body=True,\n",
    ")\n"
   ]
  },
  {
   "cell_type": "markdown",
   "metadata": {},
   "source": [
    "# Stock info"
   ]
  },
  {
   "cell_type": "code",
   "execution_count": null,
   "metadata": {},
   "outputs": [],
   "source": [
    "stock_info = dbc.Card(\n",
    "    [\n",
    "        dbc.FormGroup(\n",
    "            [\n",
    "                html.H3(\"Description\"),\n",
    "                html.P(id='stock_company_description_id')\n",
    "            ]\n",
    "        ),\n",
    "    ],\n",
    "    body=True,\n",
    ")"
   ]
  },
  {
   "cell_type": "markdown",
   "metadata": {},
   "source": [
    "# Stock Statistic Info"
   ]
  },
  {
   "cell_type": "code",
   "execution_count": null,
   "metadata": {},
   "outputs": [],
   "source": [
    "def generate_stock_statistic_info(stock_max, stock_min):\n",
    "    stock_statistic = dbc.Card(\n",
    "        [\n",
    "            dbc.FormGroup(\n",
    "                [\n",
    "                    html.H1(\"Statistic\"),\n",
    "                    html.H2(f'Max:{stock_max}'),\n",
    "                    html.Br(),\n",
    "                    html.H2(f'Min:{stock_min}'),\n",
    "                    html.Br(),\n",
    "                ]\n",
    "            ),\n",
    "        ],\n",
    "        body=True,\n",
    "    )\n",
    "    return stock_statistic"
   ]
  },
  {
   "cell_type": "code",
   "execution_count": null,
   "metadata": {},
   "outputs": [],
   "source": [
    "def generate_participant_FormGroup(participant_name, participant_address):\n",
    "    return dbc.Container(\n",
    "                dbc.FormGroup(\n",
    "                [\n",
    "                    html.H5(f'Stakeholder Name/Company: {participant_name}'),\n",
    "                    html.H5(f'Stakeholder Address: {participant_address}'),\n",
    "                    html.Br(),\n",
    "                ]\n",
    "            ),\n",
    "    \n",
    "    \n",
    "    )"
   ]
  },
  {
   "cell_type": "code",
   "execution_count": null,
   "metadata": {},
   "outputs": [],
   "source": [
    "def generate_stakeholder_info(df):\n",
    "    df = participant_info_df[participant_info_df['participant_name'].isin(df)]\n",
    "    info = df[['participant_name','participant_address']].values.tolist()\n",
    "    return dbc.Card([generate_participant_FormGroup(i[0],i[1]) for i in info], body=True)\n",
    "    \n",
    "    "
   ]
  },
  {
   "cell_type": "markdown",
   "metadata": {},
   "source": [
    "# Frontend"
   ]
  },
  {
   "cell_type": "code",
   "execution_count": null,
   "metadata": {},
   "outputs": [],
   "source": [
    "app = dash.Dash(external_stylesheets=[dbc.themes.BOOTSTRAP])\n",
    "\n",
    "app.layout = html.Div([\n",
    "    dcc.Location(id='url',refresh=False),\n",
    "    navbar,\n",
    "    dbc.Container([\n",
    "        html.Br(),\n",
    "        dbc.Row(\n",
    "            [\n",
    "                dbc.Col(controls,md=4),\n",
    "                dbc.Col(dcc.Graph(id='graph_area',\n",
    "                ),md=8)\n",
    "            ]\n",
    "        ),\n",
    "    ],\n",
    "    fluid=True),\n",
    "    dbc.Container([\n",
    "        html.Br(),\n",
    "        dbc.Row(\n",
    "            [\n",
    "                dbc.Col(stock_info,md=4),\n",
    "                dbc.Col(id='additional_info_area',\n",
    "                        md=8),\n",
    "            ],\n",
    "        ),\n",
    "    ],\n",
    "    fluid=True)\n",
    "\n",
    "])"
   ]
  },
  {
   "cell_type": "markdown",
   "metadata": {},
   "source": [
    "# Backend"
   ]
  },
  {
   "cell_type": "code",
   "execution_count": null,
   "metadata": {},
   "outputs": [],
   "source": [
    "@app.callback([Output('graph_area','figure'),\n",
    "               Output('stock_company_description_id','children'),\n",
    "               Output('additional_info_area','children')\n",
    "               ],\n",
    "             [Input('url','pathname'),\n",
    "              Input('stock_company','value'),\n",
    "              Input('my_date_picker','start_date'),\n",
    "              Input('my_date_picker','end_date')])\n",
    "def refresh(pathname, value, start_date, end_date):\n",
    "    if(pathname=='/stakeholder'):\n",
    "        fig, amount_df = get_participant_amount(value, start_date, end_date)\n",
    "        \n",
    "        \n",
    "        return fig, get_stock_company_description(value), generate_stakeholder_info(amount_df)\n",
    "        \n",
    "        \n",
    "    else:\n",
    "        df, fig = get_stock_value(value, start_date, end_date)\n",
    "        df = df.describe()\n",
    "        stock_high = str(df['high']['max'])\n",
    "        stock_low  = str(df['low']['min'])\n",
    "        print(\"stock graph\")\n",
    "        return fig, get_stock_company_description(value), generate_stock_statistic_info(stock_high, stock_low)\n",
    "    "
   ]
  },
  {
   "cell_type": "code",
   "execution_count": null,
   "metadata": {},
   "outputs": [],
   "source": [
    "app.run_server(debug=False)"
   ]
  },
  {
   "cell_type": "code",
   "execution_count": null,
   "metadata": {},
   "outputs": [],
   "source": []
  },
  {
   "cell_type": "code",
   "execution_count": null,
   "metadata": {},
   "outputs": [],
   "source": []
  },
  {
   "cell_type": "code",
   "execution_count": null,
   "metadata": {},
   "outputs": [],
   "source": []
  },
  {
   "cell_type": "code",
   "execution_count": null,
   "metadata": {},
   "outputs": [],
   "source": []
  },
  {
   "cell_type": "code",
   "execution_count": null,
   "metadata": {},
   "outputs": [],
   "source": []
  },
  {
   "cell_type": "code",
   "execution_count": null,
   "metadata": {},
   "outputs": [],
   "source": []
  },
  {
   "cell_type": "code",
   "execution_count": null,
   "metadata": {},
   "outputs": [],
   "source": []
  }
 ],
 "metadata": {
  "kernelspec": {
   "display_name": "Python 3",
   "language": "python",
   "name": "python3"
  },
  "language_info": {
   "codemirror_mode": {
    "name": "ipython",
    "version": 3
   },
   "file_extension": ".py",
   "mimetype": "text/x-python",
   "name": "python",
   "nbconvert_exporter": "python",
   "pygments_lexer": "ipython3",
   "version": "3.7.3"
  }
 },
 "nbformat": 4,
 "nbformat_minor": 4
}
